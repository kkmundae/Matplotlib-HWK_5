{
 "cells": [
  {
   "cell_type": "markdown",
   "metadata": {},
   "source": [
    "## Observations and Insights "
   ]
  },
  {
   "cell_type": "markdown",
   "metadata": {},
   "source": []
  },
  {
   "cell_type": "code",
   "execution_count": 120,
   "metadata": {},
   "outputs": [
    {
     "data": {
      "text/html": [
       "<div>\n",
       "<style scoped>\n",
       "    .dataframe tbody tr th:only-of-type {\n",
       "        vertical-align: middle;\n",
       "    }\n",
       "\n",
       "    .dataframe tbody tr th {\n",
       "        vertical-align: top;\n",
       "    }\n",
       "\n",
       "    .dataframe thead th {\n",
       "        text-align: right;\n",
       "    }\n",
       "</style>\n",
       "<table border=\"1\" class=\"dataframe\">\n",
       "  <thead>\n",
       "    <tr style=\"text-align: right;\">\n",
       "      <th></th>\n",
       "      <th>Mouse ID</th>\n",
       "      <th>Drug Regimen</th>\n",
       "      <th>Sex</th>\n",
       "      <th>Age_months</th>\n",
       "      <th>Weight (g)</th>\n",
       "      <th>Timepoint</th>\n",
       "      <th>Tumor Volume (mm3)</th>\n",
       "      <th>Metastatic Sites</th>\n",
       "    </tr>\n",
       "  </thead>\n",
       "  <tbody>\n",
       "    <tr>\n",
       "      <th>0</th>\n",
       "      <td>k403</td>\n",
       "      <td>Ramicane</td>\n",
       "      <td>Male</td>\n",
       "      <td>21</td>\n",
       "      <td>16</td>\n",
       "      <td>0</td>\n",
       "      <td>45.000000</td>\n",
       "      <td>0</td>\n",
       "    </tr>\n",
       "    <tr>\n",
       "      <th>1</th>\n",
       "      <td>k403</td>\n",
       "      <td>Ramicane</td>\n",
       "      <td>Male</td>\n",
       "      <td>21</td>\n",
       "      <td>16</td>\n",
       "      <td>5</td>\n",
       "      <td>38.825898</td>\n",
       "      <td>0</td>\n",
       "    </tr>\n",
       "    <tr>\n",
       "      <th>2</th>\n",
       "      <td>k403</td>\n",
       "      <td>Ramicane</td>\n",
       "      <td>Male</td>\n",
       "      <td>21</td>\n",
       "      <td>16</td>\n",
       "      <td>10</td>\n",
       "      <td>35.014271</td>\n",
       "      <td>1</td>\n",
       "    </tr>\n",
       "    <tr>\n",
       "      <th>3</th>\n",
       "      <td>k403</td>\n",
       "      <td>Ramicane</td>\n",
       "      <td>Male</td>\n",
       "      <td>21</td>\n",
       "      <td>16</td>\n",
       "      <td>15</td>\n",
       "      <td>34.223992</td>\n",
       "      <td>1</td>\n",
       "    </tr>\n",
       "    <tr>\n",
       "      <th>4</th>\n",
       "      <td>k403</td>\n",
       "      <td>Ramicane</td>\n",
       "      <td>Male</td>\n",
       "      <td>21</td>\n",
       "      <td>16</td>\n",
       "      <td>20</td>\n",
       "      <td>32.997729</td>\n",
       "      <td>1</td>\n",
       "    </tr>\n",
       "  </tbody>\n",
       "</table>\n",
       "</div>"
      ],
      "text/plain": [
       "  Mouse ID Drug Regimen   Sex  Age_months  Weight (g)  Timepoint  \\\n",
       "0     k403     Ramicane  Male          21          16          0   \n",
       "1     k403     Ramicane  Male          21          16          5   \n",
       "2     k403     Ramicane  Male          21          16         10   \n",
       "3     k403     Ramicane  Male          21          16         15   \n",
       "4     k403     Ramicane  Male          21          16         20   \n",
       "\n",
       "   Tumor Volume (mm3)  Metastatic Sites  \n",
       "0           45.000000                 0  \n",
       "1           38.825898                 0  \n",
       "2           35.014271                 1  \n",
       "3           34.223992                 1  \n",
       "4           32.997729                 1  "
      ]
     },
     "execution_count": 120,
     "metadata": {},
     "output_type": "execute_result"
    }
   ],
   "source": [
    "# Dependencies and Setup\n",
    "\n",
    "import pandas as pd\n",
    "import numpy as np\n",
    "import os\n",
    "import matplotlib.pyplot as plt\n",
    "import scipy.stats as sts\n",
    "from scipy.stats import linregress\n",
    "\n",
    "# Study data files\n",
    "mouse_metadata_path = \"data/Mouse_metadata.csv\"\n",
    "study_results_path = \"data/Study_results.csv\"\n",
    "\n",
    "# Read the mouse data and the study results\n",
    "mouse_metadata = pd.read_csv(mouse_metadata_path)\n",
    "study_results = pd.read_csv(study_results_path)\n",
    "\n",
    "# Combine the data into a single dataset\n",
    "merge_mouse = pd.merge(mouse_metadata, study_results, on = \"Mouse ID\")\n",
    "\n",
    "# Display the data table for preview\n",
    "merge_mouse.head()\n"
   ]
  },
  {
   "cell_type": "code",
   "execution_count": 121,
   "metadata": {},
   "outputs": [
    {
     "data": {
      "text/plain": [
       "Mouse ID              1893\n",
       "Drug Regimen          1893\n",
       "Sex                   1893\n",
       "Age_months            1893\n",
       "Weight (g)            1893\n",
       "Timepoint             1893\n",
       "Tumor Volume (mm3)    1893\n",
       "Metastatic Sites      1893\n",
       "dtype: int64"
      ]
     },
     "execution_count": 121,
     "metadata": {},
     "output_type": "execute_result"
    }
   ],
   "source": [
    "# Checking the number of mice. also shows that the data doesnot need cleaning up\n",
    "count = merge_mouse.count()\n",
    "count"
   ]
  },
  {
   "cell_type": "code",
   "execution_count": 122,
   "metadata": {},
   "outputs": [
    {
     "data": {
      "text/plain": [
       "0    False\n",
       "1    False\n",
       "2    False\n",
       "3    False\n",
       "4    False\n",
       "dtype: bool"
      ]
     },
     "execution_count": 122,
     "metadata": {},
     "output_type": "execute_result"
    }
   ],
   "source": [
    "# Getting the duplicate mice by ID number that shows up for Mouse ID and Timepoint. \n",
    "duplicates = merge_mouse.duplicated(subset=['Mouse ID', 'Timepoint'], keep=False)\n",
    "duplicates.head()\n",
    "\n"
   ]
  },
  {
   "cell_type": "code",
   "execution_count": 123,
   "metadata": {},
   "outputs": [
    {
     "data": {
      "text/html": [
       "<div>\n",
       "<style scoped>\n",
       "    .dataframe tbody tr th:only-of-type {\n",
       "        vertical-align: middle;\n",
       "    }\n",
       "\n",
       "    .dataframe tbody tr th {\n",
       "        vertical-align: top;\n",
       "    }\n",
       "\n",
       "    .dataframe thead th {\n",
       "        text-align: right;\n",
       "    }\n",
       "</style>\n",
       "<table border=\"1\" class=\"dataframe\">\n",
       "  <thead>\n",
       "    <tr style=\"text-align: right;\">\n",
       "      <th></th>\n",
       "      <th>Mouse ID</th>\n",
       "      <th>Drug Regimen</th>\n",
       "      <th>Sex</th>\n",
       "      <th>Age_months</th>\n",
       "      <th>Weight (g)</th>\n",
       "      <th>Timepoint</th>\n",
       "      <th>Tumor Volume (mm3)</th>\n",
       "      <th>Metastatic Sites</th>\n",
       "    </tr>\n",
       "  </thead>\n",
       "  <tbody>\n",
       "    <tr>\n",
       "      <th>909</th>\n",
       "      <td>g989</td>\n",
       "      <td>Propriva</td>\n",
       "      <td>Female</td>\n",
       "      <td>21</td>\n",
       "      <td>26</td>\n",
       "      <td>0</td>\n",
       "      <td>45.0</td>\n",
       "      <td>0</td>\n",
       "    </tr>\n",
       "  </tbody>\n",
       "</table>\n",
       "</div>"
      ],
      "text/plain": [
       "    Mouse ID Drug Regimen     Sex  Age_months  Weight (g)  Timepoint  \\\n",
       "909     g989     Propriva  Female          21          26          0   \n",
       "\n",
       "     Tumor Volume (mm3)  Metastatic Sites  \n",
       "909                45.0                 0  "
      ]
     },
     "execution_count": 123,
     "metadata": {},
     "output_type": "execute_result"
    }
   ],
   "source": [
    "# Optional: Get all the data for the duplicate mouse ID. \n",
    "merge_mouse[merge_mouse.duplicated()]\n"
   ]
  },
  {
   "cell_type": "code",
   "execution_count": 124,
   "metadata": {},
   "outputs": [],
   "source": [
    "# Create a clean DataFrame by dropping the duplicate mouse by its ID.\n",
    "clean_data = merge_mouse.drop_duplicates(keep = \"first\")"
   ]
  },
  {
   "cell_type": "code",
   "execution_count": 125,
   "metadata": {},
   "outputs": [
    {
     "data": {
      "text/plain": [
       "Mouse ID              1892\n",
       "Drug Regimen          1892\n",
       "Sex                   1892\n",
       "Age_months            1892\n",
       "Weight (g)            1892\n",
       "Timepoint             1892\n",
       "Tumor Volume (mm3)    1892\n",
       "Metastatic Sites      1892\n",
       "dtype: int64"
      ]
     },
     "execution_count": 125,
     "metadata": {},
     "output_type": "execute_result"
    }
   ],
   "source": [
    "# Checking the number of mice in the clean DataFrame.\n",
    "count2 = clean_data.count()\n",
    "count2"
   ]
  },
  {
   "cell_type": "code",
   "execution_count": 126,
   "metadata": {},
   "outputs": [
    {
     "data": {
      "text/html": [
       "<div>\n",
       "<style scoped>\n",
       "    .dataframe tbody tr th:only-of-type {\n",
       "        vertical-align: middle;\n",
       "    }\n",
       "\n",
       "    .dataframe tbody tr th {\n",
       "        vertical-align: top;\n",
       "    }\n",
       "\n",
       "    .dataframe thead th {\n",
       "        text-align: right;\n",
       "    }\n",
       "</style>\n",
       "<table border=\"1\" class=\"dataframe\">\n",
       "  <thead>\n",
       "    <tr style=\"text-align: right;\">\n",
       "      <th></th>\n",
       "      <th>Mouse ID</th>\n",
       "      <th>Drug Regimen</th>\n",
       "      <th>Sex</th>\n",
       "      <th>Age_months</th>\n",
       "      <th>Weight (g)</th>\n",
       "      <th>Timepoint</th>\n",
       "      <th>Tumor Volume (mm3)</th>\n",
       "      <th>Metastatic Sites</th>\n",
       "    </tr>\n",
       "  </thead>\n",
       "  <tbody>\n",
       "    <tr>\n",
       "      <th>0</th>\n",
       "      <td>k403</td>\n",
       "      <td>Ramicane</td>\n",
       "      <td>Male</td>\n",
       "      <td>21</td>\n",
       "      <td>16</td>\n",
       "      <td>0</td>\n",
       "      <td>45.000000</td>\n",
       "      <td>0</td>\n",
       "    </tr>\n",
       "    <tr>\n",
       "      <th>1</th>\n",
       "      <td>k403</td>\n",
       "      <td>Ramicane</td>\n",
       "      <td>Male</td>\n",
       "      <td>21</td>\n",
       "      <td>16</td>\n",
       "      <td>5</td>\n",
       "      <td>38.825898</td>\n",
       "      <td>0</td>\n",
       "    </tr>\n",
       "    <tr>\n",
       "      <th>2</th>\n",
       "      <td>k403</td>\n",
       "      <td>Ramicane</td>\n",
       "      <td>Male</td>\n",
       "      <td>21</td>\n",
       "      <td>16</td>\n",
       "      <td>10</td>\n",
       "      <td>35.014271</td>\n",
       "      <td>1</td>\n",
       "    </tr>\n",
       "    <tr>\n",
       "      <th>3</th>\n",
       "      <td>k403</td>\n",
       "      <td>Ramicane</td>\n",
       "      <td>Male</td>\n",
       "      <td>21</td>\n",
       "      <td>16</td>\n",
       "      <td>15</td>\n",
       "      <td>34.223992</td>\n",
       "      <td>1</td>\n",
       "    </tr>\n",
       "    <tr>\n",
       "      <th>4</th>\n",
       "      <td>k403</td>\n",
       "      <td>Ramicane</td>\n",
       "      <td>Male</td>\n",
       "      <td>21</td>\n",
       "      <td>16</td>\n",
       "      <td>20</td>\n",
       "      <td>32.997729</td>\n",
       "      <td>1</td>\n",
       "    </tr>\n",
       "  </tbody>\n",
       "</table>\n",
       "</div>"
      ],
      "text/plain": [
       "  Mouse ID Drug Regimen   Sex  Age_months  Weight (g)  Timepoint  \\\n",
       "0     k403     Ramicane  Male          21          16          0   \n",
       "1     k403     Ramicane  Male          21          16          5   \n",
       "2     k403     Ramicane  Male          21          16         10   \n",
       "3     k403     Ramicane  Male          21          16         15   \n",
       "4     k403     Ramicane  Male          21          16         20   \n",
       "\n",
       "   Tumor Volume (mm3)  Metastatic Sites  \n",
       "0           45.000000                 0  \n",
       "1           38.825898                 0  \n",
       "2           35.014271                 1  \n",
       "3           34.223992                 1  \n",
       "4           32.997729                 1  "
      ]
     },
     "execution_count": 126,
     "metadata": {},
     "output_type": "execute_result"
    }
   ],
   "source": [
    "clean_data.head()"
   ]
  },
  {
   "cell_type": "markdown",
   "metadata": {},
   "source": [
    "## Summary Statistics"
   ]
  },
  {
   "cell_type": "code",
   "execution_count": 127,
   "metadata": {},
   "outputs": [],
   "source": [
    "# Generate a summary statistics table of mean, median, variance, standard deviation, and SEM of the tumor volume for each regimen\n",
    "\n",
    "## Create new dataframe for Tumor Volume Changes as per drug, and timepoint\n",
    "tumor_volume = clean_data.filter(['Drug Regimen','Tumor Volume (mm3)'], axis=1)\n",
    "tumor_volume = tumor_volume.set_index('Drug Regimen')\n",
    "tumor_volume_drug = tumor_volume.groupby(['Drug Regimen']) \n",
    "tumor_volume_drug.head()\n",
    "\n",
    "### Calculate mean for each drug type\n",
    "mean_tum_vol = pd.DataFrame(tumor_volume.groupby(['Drug Regimen']).mean())\n",
    "mean_tum_vol = mean_tum_vol.rename(columns = {\"Tumor Volume (mm3)\": \"Mean of Tumor Volume (mm3)\"})\n",
    "#mean_tum_vol.head(100)\n",
    "\n",
    "###Calculate the median for each drug type\n",
    "median_tum_vol = pd.DataFrame(tumor_volume.groupby(['Drug Regimen']).median())\n",
    "median_tum_vol = median_tum_vol.rename(columns = {\"Tumor Volume (mm3)\": \"Median of Tumor Volume (mm3)\"})\n",
    "#median_tum_vol.head(100)\n",
    "\n",
    "###Calculate the variance for each drug type\n",
    "var_tum_vol = pd.DataFrame(tumor_volume.groupby(['Drug Regimen']).var())\n",
    "var_tum_vol = var_tum_vol.rename(columns = {\"Tumor Volume (mm3)\": \"Varaince of Tumor Volume (mm3)\"})\n",
    "#var_tum_vol.head(100)\n",
    "\n",
    "###Calculate the standard deviation for each drug type\n",
    "stdvar_tum_vol = pd.DataFrame(tumor_volume.groupby(['Drug Regimen']).std())\n",
    "stdvar_tum_vol = stdvar_tum_vol.rename(columns = {\"Tumor Volume (mm3)\": \"Standard Deviation of Tumor Volume (mm3)\"})\n",
    "#stdvar_tum_vol.head(100)\n",
    "\n",
    "###Calculate the SEM for each drug type\n",
    "sem_tum_vol = pd.DataFrame(tumor_volume.groupby(['Drug Regimen']).sem())\n",
    "sem_tum_vol = sem_tum_vol.rename(columns = {\"Tumor Volume (mm3)\": \"SEM of Tumor Volume (mm3)\"})\n",
    "#sem_tum_vol.head(100)\n"
   ]
  },
  {
   "cell_type": "code",
   "execution_count": 128,
   "metadata": {},
   "outputs": [
    {
     "data": {
      "text/html": [
       "<div>\n",
       "<style scoped>\n",
       "    .dataframe tbody tr th:only-of-type {\n",
       "        vertical-align: middle;\n",
       "    }\n",
       "\n",
       "    .dataframe tbody tr th {\n",
       "        vertical-align: top;\n",
       "    }\n",
       "\n",
       "    .dataframe thead th {\n",
       "        text-align: right;\n",
       "    }\n",
       "</style>\n",
       "<table border=\"1\" class=\"dataframe\">\n",
       "  <thead>\n",
       "    <tr style=\"text-align: right;\">\n",
       "      <th></th>\n",
       "      <th>Mean of Tumor Volume (mm3)</th>\n",
       "      <th>Median of Tumor Volume (mm3)</th>\n",
       "      <th>Varaince of Tumor Volume (mm3)</th>\n",
       "      <th>Standard Deviation of Tumor Volume (mm3)</th>\n",
       "      <th>SEM of Tumor Volume (mm3)</th>\n",
       "    </tr>\n",
       "    <tr>\n",
       "      <th>Drug Regimen</th>\n",
       "      <th></th>\n",
       "      <th></th>\n",
       "      <th></th>\n",
       "      <th></th>\n",
       "      <th></th>\n",
       "    </tr>\n",
       "  </thead>\n",
       "  <tbody>\n",
       "    <tr>\n",
       "      <th>Capomulin</th>\n",
       "      <td>40.675741</td>\n",
       "      <td>41.557809</td>\n",
       "      <td>24.947764</td>\n",
       "      <td>4.994774</td>\n",
       "      <td>0.329346</td>\n",
       "    </tr>\n",
       "    <tr>\n",
       "      <th>Ceftamin</th>\n",
       "      <td>52.591172</td>\n",
       "      <td>51.776157</td>\n",
       "      <td>39.290177</td>\n",
       "      <td>6.268188</td>\n",
       "      <td>0.469821</td>\n",
       "    </tr>\n",
       "    <tr>\n",
       "      <th>Infubinol</th>\n",
       "      <td>52.884795</td>\n",
       "      <td>51.820584</td>\n",
       "      <td>43.128684</td>\n",
       "      <td>6.567243</td>\n",
       "      <td>0.492236</td>\n",
       "    </tr>\n",
       "    <tr>\n",
       "      <th>Ketapril</th>\n",
       "      <td>55.235638</td>\n",
       "      <td>53.698743</td>\n",
       "      <td>68.553577</td>\n",
       "      <td>8.279709</td>\n",
       "      <td>0.603860</td>\n",
       "    </tr>\n",
       "    <tr>\n",
       "      <th>Naftisol</th>\n",
       "      <td>54.331565</td>\n",
       "      <td>52.509285</td>\n",
       "      <td>66.173479</td>\n",
       "      <td>8.134708</td>\n",
       "      <td>0.596466</td>\n",
       "    </tr>\n",
       "    <tr>\n",
       "      <th>Placebo</th>\n",
       "      <td>54.033581</td>\n",
       "      <td>52.288934</td>\n",
       "      <td>61.168083</td>\n",
       "      <td>7.821003</td>\n",
       "      <td>0.581331</td>\n",
       "    </tr>\n",
       "    <tr>\n",
       "      <th>Propriva</th>\n",
       "      <td>52.368318</td>\n",
       "      <td>50.909965</td>\n",
       "      <td>42.278090</td>\n",
       "      <td>6.502160</td>\n",
       "      <td>0.514041</td>\n",
       "    </tr>\n",
       "    <tr>\n",
       "      <th>Ramicane</th>\n",
       "      <td>40.216745</td>\n",
       "      <td>40.673236</td>\n",
       "      <td>23.486704</td>\n",
       "      <td>4.846308</td>\n",
       "      <td>0.320955</td>\n",
       "    </tr>\n",
       "    <tr>\n",
       "      <th>Stelasyn</th>\n",
       "      <td>54.233149</td>\n",
       "      <td>52.431737</td>\n",
       "      <td>59.450562</td>\n",
       "      <td>7.710419</td>\n",
       "      <td>0.573111</td>\n",
       "    </tr>\n",
       "    <tr>\n",
       "      <th>Zoniferol</th>\n",
       "      <td>53.236507</td>\n",
       "      <td>51.818479</td>\n",
       "      <td>48.533355</td>\n",
       "      <td>6.966589</td>\n",
       "      <td>0.516398</td>\n",
       "    </tr>\n",
       "  </tbody>\n",
       "</table>\n",
       "</div>"
      ],
      "text/plain": [
       "              Mean of Tumor Volume (mm3)  Median of Tumor Volume (mm3)  \\\n",
       "Drug Regimen                                                             \n",
       "Capomulin                      40.675741                     41.557809   \n",
       "Ceftamin                       52.591172                     51.776157   \n",
       "Infubinol                      52.884795                     51.820584   \n",
       "Ketapril                       55.235638                     53.698743   \n",
       "Naftisol                       54.331565                     52.509285   \n",
       "Placebo                        54.033581                     52.288934   \n",
       "Propriva                       52.368318                     50.909965   \n",
       "Ramicane                       40.216745                     40.673236   \n",
       "Stelasyn                       54.233149                     52.431737   \n",
       "Zoniferol                      53.236507                     51.818479   \n",
       "\n",
       "              Varaince of Tumor Volume (mm3)  \\\n",
       "Drug Regimen                                   \n",
       "Capomulin                          24.947764   \n",
       "Ceftamin                           39.290177   \n",
       "Infubinol                          43.128684   \n",
       "Ketapril                           68.553577   \n",
       "Naftisol                           66.173479   \n",
       "Placebo                            61.168083   \n",
       "Propriva                           42.278090   \n",
       "Ramicane                           23.486704   \n",
       "Stelasyn                           59.450562   \n",
       "Zoniferol                          48.533355   \n",
       "\n",
       "              Standard Deviation of Tumor Volume (mm3)  \\\n",
       "Drug Regimen                                             \n",
       "Capomulin                                     4.994774   \n",
       "Ceftamin                                      6.268188   \n",
       "Infubinol                                     6.567243   \n",
       "Ketapril                                      8.279709   \n",
       "Naftisol                                      8.134708   \n",
       "Placebo                                       7.821003   \n",
       "Propriva                                      6.502160   \n",
       "Ramicane                                      4.846308   \n",
       "Stelasyn                                      7.710419   \n",
       "Zoniferol                                     6.966589   \n",
       "\n",
       "              SEM of Tumor Volume (mm3)  \n",
       "Drug Regimen                             \n",
       "Capomulin                      0.329346  \n",
       "Ceftamin                       0.469821  \n",
       "Infubinol                      0.492236  \n",
       "Ketapril                       0.603860  \n",
       "Naftisol                       0.596466  \n",
       "Placebo                        0.581331  \n",
       "Propriva                       0.514041  \n",
       "Ramicane                       0.320955  \n",
       "Stelasyn                       0.573111  \n",
       "Zoniferol                      0.516398  "
      ]
     },
     "execution_count": 128,
     "metadata": {},
     "output_type": "execute_result"
    }
   ],
   "source": [
    "# Generate a summary statistics table of mean, median, variance, standard deviation, and SEM of the tumor volume for each regimen\n",
    "summary_stats = pd.concat([mean_tum_vol,median_tum_vol,var_tum_vol,stdvar_tum_vol,sem_tum_vol],axis=1)\n",
    "summary_stats.head(100)\n"
   ]
  },
  {
   "cell_type": "markdown",
   "metadata": {},
   "source": [
    "## Bar and Pie Charts"
   ]
  },
  {
   "cell_type": "code",
   "execution_count": 129,
   "metadata": {},
   "outputs": [
    {
     "data": {
      "image/png": "[encoded data removed]",
      "text/plain": [
       "<Figure size 432x288 with 1 Axes>"
      ]
     },
     "metadata": {
      "needs_background": "light"
     },
     "output_type": "display_data"
    }
   ],
   "source": [
    "#Generate a bar plot showing the total count for each drug regimen throughout the course of the study\n",
    "mouse_count_drug = clean_data.groupby(['Drug Regimen'])['Mouse ID'].nunique()\n",
    "mouse_count_drug.head(100)\n",
    "\n",
    "#create bar chart\n",
    "count_plot = mouse_count_drug.plot.bar()\n",
    "count_plot.set_xlabel(\"Drug Regimen\")\n",
    "count_plot.set_ylabel(\"Trial Count\")\n",
    "plt.title(\"Count of data points for each Drug Regimen\")\n",
    "\n",
    "#Save Figure\n",
    "plt.savefig(\"figures/BarChart_MouseCount.png\")\n",
    "plt.show()"
   ]
  },
  {
   "cell_type": "code",
   "execution_count": 130,
   "metadata": {},
   "outputs": [
    {
     "data": {
      "image/png": "[encoded data removed]",
      "text/plain": [
       "<Figure size 432x288 with 1 Axes>"
      ]
     },
     "metadata": {
      "needs_background": "light"
     },
     "output_type": "display_data"
    }
   ],
   "source": [
    "# Generate a bar plot showing the total number of UNIQUE mice for each treatment throughout the course of the study using pyplot.\n",
    "\n",
    "#Use the same groupby dataframe as before\n",
    "# Set X-axis and Tick locations\n",
    "\n",
    "x_axis = mouse_count_drug.index\n",
    "y_axis = mouse_count_drug\n",
    "\n",
    "plt.bar(x_axis, y_axis, color=\"b\", alpha=0.5, align=\"center\")\n",
    "\n",
    "# Set a Title and labels\n",
    "plt.title(\"Count of data points for each Drug Regimen\")\n",
    "plt.xlabel(\"Drug Regimen\")\n",
    "plt.ylabel(\"Trial Count\")\n",
    "plt.xticks(rotation = 90)\n",
    "\n",
    "# Save the figure\n",
    "plt.savefig(\"figures/PyplotBarChart.png\")\n",
    "plt.show()\n"
   ]
  },
  {
   "cell_type": "code",
   "execution_count": 131,
   "metadata": {},
   "outputs": [
    {
     "data": {
      "text/html": [
       "<div>\n",
       "<style scoped>\n",
       "    .dataframe tbody tr th:only-of-type {\n",
       "        vertical-align: middle;\n",
       "    }\n",
       "\n",
       "    .dataframe tbody tr th {\n",
       "        vertical-align: top;\n",
       "    }\n",
       "\n",
       "    .dataframe thead th {\n",
       "        text-align: right;\n",
       "    }\n",
       "</style>\n",
       "<table border=\"1\" class=\"dataframe\">\n",
       "  <thead>\n",
       "    <tr style=\"text-align: right;\">\n",
       "      <th></th>\n",
       "      <th>Sex</th>\n",
       "    </tr>\n",
       "    <tr>\n",
       "      <th>Sex</th>\n",
       "      <th></th>\n",
       "    </tr>\n",
       "  </thead>\n",
       "  <tbody>\n",
       "    <tr>\n",
       "      <th>Female</th>\n",
       "      <td>934</td>\n",
       "    </tr>\n",
       "    <tr>\n",
       "      <th>Male</th>\n",
       "      <td>958</td>\n",
       "    </tr>\n",
       "  </tbody>\n",
       "</table>\n",
       "</div>"
      ],
      "text/plain": [
       "        Sex\n",
       "Sex        \n",
       "Female  934\n",
       "Male    958"
      ]
     },
     "execution_count": 131,
     "metadata": {},
     "output_type": "execute_result"
    }
   ],
   "source": [
    "# Generate data for  pie plot \n",
    "groupby_gender = clean_data.groupby(\"Sex\")\n",
    "groupby_gender_count = pd.DataFrame(groupby_gender[\"Sex\"].count())\n",
    "groupby_gender_count.head(100)\n"
   ]
  },
  {
   "cell_type": "code",
   "execution_count": 132,
   "metadata": {},
   "outputs": [
    {
     "data": {
      "image/png": "[encoded data removed]",
      "text/plain": [
       "<Figure size 432x288 with 1 Axes>"
      ]
     },
     "metadata": {},
     "output_type": "display_data"
    }
   ],
   "source": [
    "# Generate a pie plot showing the distribution of female versus male mice using pyplot\n",
    "gender_pie = groupby_gender_count.plot(kind=\"pie\", y=\"Sex\",\n",
    "                                  title = (\"Distribution of Male vs Female Mice\"),\n",
    "                                  autopct=\"%1.1f%%\", shadow=True, startangle=120)\n",
    "plt.axis(\"equal\")\n",
    "plt.savefig(\"figures/PandaPieChart.png\")\n",
    "plt.show()\n",
    "\n"
   ]
  },
  {
   "cell_type": "code",
   "execution_count": 133,
   "metadata": {},
   "outputs": [
    {
     "data": {
      "image/png": "[encoded data removed]",
      "text/plain": [
       "<Figure size 432x288 with 1 Axes>"
      ]
     },
     "metadata": {},
     "output_type": "display_data"
    }
   ],
   "source": [
    "genders = list(groupby_gender_count.index.values)\n",
    "gender_counts = groupby_gender_count[\"Sex\"]\n",
    "colors = [\"lightblue\", \"orange\"]\n",
    "\n",
    "plt.pie(gender_counts, labels=genders, colors=colors, autopct=\"%1.1f%%\", startangle=140)\n",
    "\n",
    "plt.title(\"Distribution of Female versus Male mice\")\n",
    "plt.axis(\"equal\")\n",
    "plt.savefig(\"figures/PyplotPieChart.png\")\n",
    "plt.show()"
   ]
  },
  {
   "cell_type": "markdown",
   "metadata": {},
   "source": [
    "## Quartiles, Outliers and Boxplots"
   ]
  },
  {
   "cell_type": "code",
   "execution_count": 134,
   "metadata": {
    "scrolled": true
   },
   "outputs": [
    {
     "data": {
      "text/html": [
       "<div>\n",
       "<style scoped>\n",
       "    .dataframe tbody tr th:only-of-type {\n",
       "        vertical-align: middle;\n",
       "    }\n",
       "\n",
       "    .dataframe tbody tr th {\n",
       "        vertical-align: top;\n",
       "    }\n",
       "\n",
       "    .dataframe thead th {\n",
       "        text-align: right;\n",
       "    }\n",
       "</style>\n",
       "<table border=\"1\" class=\"dataframe\">\n",
       "  <thead>\n",
       "    <tr style=\"text-align: right;\">\n",
       "      <th></th>\n",
       "      <th>Timepoint</th>\n",
       "      <th>Mouse ID</th>\n",
       "      <th>Sex</th>\n",
       "      <th>Age_months</th>\n",
       "      <th>Weight (g)</th>\n",
       "      <th>Tumor Volume (mm3)</th>\n",
       "      <th>Metastatic Sites</th>\n",
       "    </tr>\n",
       "    <tr>\n",
       "      <th>Drug Regimen</th>\n",
       "      <th></th>\n",
       "      <th></th>\n",
       "      <th></th>\n",
       "      <th></th>\n",
       "      <th></th>\n",
       "      <th></th>\n",
       "      <th></th>\n",
       "    </tr>\n",
       "  </thead>\n",
       "  <tbody>\n",
       "    <tr>\n",
       "      <th>Ramicane</th>\n",
       "      <td>45</td>\n",
       "      <td>k403</td>\n",
       "      <td>Male</td>\n",
       "      <td>21</td>\n",
       "      <td>16</td>\n",
       "      <td>22.050126</td>\n",
       "      <td>1</td>\n",
       "    </tr>\n",
       "    <tr>\n",
       "      <th>Capomulin</th>\n",
       "      <td>45</td>\n",
       "      <td>s185</td>\n",
       "      <td>Female</td>\n",
       "      <td>3</td>\n",
       "      <td>17</td>\n",
       "      <td>23.343598</td>\n",
       "      <td>1</td>\n",
       "    </tr>\n",
       "    <tr>\n",
       "      <th>Capomulin</th>\n",
       "      <td>45</td>\n",
       "      <td>x401</td>\n",
       "      <td>Female</td>\n",
       "      <td>16</td>\n",
       "      <td>15</td>\n",
       "      <td>28.484033</td>\n",
       "      <td>0</td>\n",
       "    </tr>\n",
       "    <tr>\n",
       "      <th>Capomulin</th>\n",
       "      <td>45</td>\n",
       "      <td>m601</td>\n",
       "      <td>Male</td>\n",
       "      <td>22</td>\n",
       "      <td>17</td>\n",
       "      <td>28.430964</td>\n",
       "      <td>1</td>\n",
       "    </tr>\n",
       "    <tr>\n",
       "      <th>Ramicane</th>\n",
       "      <td>45</td>\n",
       "      <td>g791</td>\n",
       "      <td>Male</td>\n",
       "      <td>11</td>\n",
       "      <td>16</td>\n",
       "      <td>29.128472</td>\n",
       "      <td>1</td>\n",
       "    </tr>\n",
       "    <tr>\n",
       "      <th>...</th>\n",
       "      <td>...</td>\n",
       "      <td>...</td>\n",
       "      <td>...</td>\n",
       "      <td>...</td>\n",
       "      <td>...</td>\n",
       "      <td>...</td>\n",
       "      <td>...</td>\n",
       "    </tr>\n",
       "    <tr>\n",
       "      <th>Capomulin</th>\n",
       "      <td>45</td>\n",
       "      <td>g316</td>\n",
       "      <td>Female</td>\n",
       "      <td>22</td>\n",
       "      <td>22</td>\n",
       "      <td>40.159220</td>\n",
       "      <td>2</td>\n",
       "    </tr>\n",
       "    <tr>\n",
       "      <th>Capomulin</th>\n",
       "      <td>45</td>\n",
       "      <td>s710</td>\n",
       "      <td>Female</td>\n",
       "      <td>1</td>\n",
       "      <td>23</td>\n",
       "      <td>40.728578</td>\n",
       "      <td>1</td>\n",
       "    </tr>\n",
       "    <tr>\n",
       "      <th>Capomulin</th>\n",
       "      <td>45</td>\n",
       "      <td>l509</td>\n",
       "      <td>Male</td>\n",
       "      <td>17</td>\n",
       "      <td>21</td>\n",
       "      <td>41.483008</td>\n",
       "      <td>3</td>\n",
       "    </tr>\n",
       "    <tr>\n",
       "      <th>Capomulin</th>\n",
       "      <td>45</td>\n",
       "      <td>r944</td>\n",
       "      <td>Male</td>\n",
       "      <td>12</td>\n",
       "      <td>25</td>\n",
       "      <td>41.581521</td>\n",
       "      <td>2</td>\n",
       "    </tr>\n",
       "    <tr>\n",
       "      <th>Ramicane</th>\n",
       "      <td>45</td>\n",
       "      <td>e662</td>\n",
       "      <td>Male</td>\n",
       "      <td>8</td>\n",
       "      <td>24</td>\n",
       "      <td>40.659006</td>\n",
       "      <td>2</td>\n",
       "    </tr>\n",
       "  </tbody>\n",
       "</table>\n",
       "<p>100 rows × 7 columns</p>\n",
       "</div>"
      ],
      "text/plain": [
       "              Timepoint Mouse ID     Sex  Age_months  Weight (g)  \\\n",
       "Drug Regimen                                                       \n",
       "Ramicane             45     k403    Male          21          16   \n",
       "Capomulin            45     s185  Female           3          17   \n",
       "Capomulin            45     x401  Female          16          15   \n",
       "Capomulin            45     m601    Male          22          17   \n",
       "Ramicane             45     g791    Male          11          16   \n",
       "...                 ...      ...     ...         ...         ...   \n",
       "Capomulin            45     g316  Female          22          22   \n",
       "Capomulin            45     s710  Female           1          23   \n",
       "Capomulin            45     l509    Male          17          21   \n",
       "Capomulin            45     r944    Male          12          25   \n",
       "Ramicane             45     e662    Male           8          24   \n",
       "\n",
       "              Tumor Volume (mm3)  Metastatic Sites  \n",
       "Drug Regimen                                        \n",
       "Ramicane               22.050126                 1  \n",
       "Capomulin              23.343598                 1  \n",
       "Capomulin              28.484033                 0  \n",
       "Capomulin              28.430964                 1  \n",
       "Ramicane               29.128472                 1  \n",
       "...                          ...               ...  \n",
       "Capomulin              40.159220                 2  \n",
       "Capomulin              40.728578                 1  \n",
       "Capomulin              41.483008                 3  \n",
       "Capomulin              41.581521                 2  \n",
       "Ramicane               40.659006                 2  \n",
       "\n",
       "[100 rows x 7 columns]"
      ]
     },
     "execution_count": 134,
     "metadata": {},
     "output_type": "execute_result"
    }
   ],
   "source": [
    "# Calculate the final tumor volume of each mouse across four of the treatment regimens:  \n",
    "# Capomulin, Ramicane, Infubinol, and Ceftamin\n",
    "\n",
    "#Create new DF for the four drugs\n",
    "drug_list = ['Capomulin', 'Ramicane', 'Infubinol', 'Ceftamin']\n",
    "\n",
    "#use asin function to extract these four drugs\n",
    "four_drugs = clean_data[clean_data['Drug Regimen'].isin(drug_list)]\n",
    "four_drugs.head()\n",
    "\n",
    "#Group the data by Drug and Mouse ID\n",
    "last_tumor_drug = four_drugs.groupby([\"Mouse ID\",\"Drug Regimen\"]) \n",
    "#last_tumor_drug.head(100)\n",
    "                    \n",
    "\n",
    "# Start by getting the last (greatest) timepoint for each mouse\n",
    "max_timepoint = pd.DataFrame(four_drugs.groupby([\"Mouse ID\",\"Drug Regimen\"])[\"Timepoint\"].max())\n",
    "#max_timepoint.head(100)\n",
    "\n",
    "# Merge this group df with the original dataframe to get the tumor volume at the last timepoint\n",
    "merge_time_vol = pd.merge(max_timepoint, four_drugs, on = \"Timepoint\")\n",
    "merge_time_vol = merge_time_vol.set_index('Drug Regimen')\n",
    "merge_time_vol.head(100)\n"
   ]
  },
  {
   "cell_type": "code",
   "execution_count": 140,
   "metadata": {},
   "outputs": [
    {
     "data": {
      "text/html": [
       "<div>\n",
       "<style scoped>\n",
       "    .dataframe tbody tr th:only-of-type {\n",
       "        vertical-align: middle;\n",
       "    }\n",
       "\n",
       "    .dataframe tbody tr th {\n",
       "        vertical-align: top;\n",
       "    }\n",
       "\n",
       "    .dataframe thead th {\n",
       "        text-align: right;\n",
       "    }\n",
       "</style>\n",
       "<table border=\"1\" class=\"dataframe\">\n",
       "  <thead>\n",
       "    <tr style=\"text-align: right;\">\n",
       "      <th></th>\n",
       "      <th>IQR</th>\n",
       "      <th>Lower Bound</th>\n",
       "      <th>Upper Bound</th>\n",
       "      <th>Outliers</th>\n",
       "    </tr>\n",
       "    <tr>\n",
       "      <th>Drug Regimen</th>\n",
       "      <th></th>\n",
       "      <th></th>\n",
       "      <th></th>\n",
       "      <th></th>\n",
       "    </tr>\n",
       "  </thead>\n",
       "  <tbody>\n",
       "    <tr>\n",
       "      <th>Capomulin</th>\n",
       "      <td>7.31</td>\n",
       "      <td>26.72</td>\n",
       "      <td>55.96</td>\n",
       "      <td>18    25.472143\n",
       "19    23.343598\n",
       "Name: Tumor Vo...</td>\n",
       "    </tr>\n",
       "    <tr>\n",
       "      <th>Ramicane</th>\n",
       "      <td>8.33</td>\n",
       "      <td>24.18</td>\n",
       "      <td>57.50</td>\n",
       "      <td>9    22.050126\n",
       "Name: Tumor Volume (mm3), dtype...</td>\n",
       "    </tr>\n",
       "    <tr>\n",
       "      <th>Infubinol</th>\n",
       "      <td>10.00</td>\n",
       "      <td>32.31</td>\n",
       "      <td>72.31</td>\n",
       "      <td>Series([], Name: Tumor Volume (mm3), dtype: fl...</td>\n",
       "    </tr>\n",
       "    <tr>\n",
       "      <th>Ceftamin</th>\n",
       "      <td>9.59</td>\n",
       "      <td>32.83</td>\n",
       "      <td>71.18</td>\n",
       "      <td>Series([], Name: Tumor Volume (mm3), dtype: fl...</td>\n",
       "    </tr>\n",
       "  </tbody>\n",
       "</table>\n",
       "</div>"
      ],
      "text/plain": [
       "                IQR  Lower Bound  Upper Bound  \\\n",
       "Drug Regimen                                    \n",
       "Capomulin      7.31        26.72        55.96   \n",
       "Ramicane       8.33        24.18        57.50   \n",
       "Infubinol     10.00        32.31        72.31   \n",
       "Ceftamin       9.59        32.83        71.18   \n",
       "\n",
       "                                                       Outliers  \n",
       "Drug Regimen                                                     \n",
       "Capomulin     18    25.472143\n",
       "19    23.343598\n",
       "Name: Tumor Vo...  \n",
       "Ramicane      9    22.050126\n",
       "Name: Tumor Volume (mm3), dtype...  \n",
       "Infubinol     Series([], Name: Tumor Volume (mm3), dtype: fl...  \n",
       "Ceftamin      Series([], Name: Tumor Volume (mm3), dtype: fl...  "
      ]
     },
     "execution_count": 140,
     "metadata": {},
     "output_type": "execute_result"
    }
   ],
   "source": [
    "# Put treatments into a list for for loop (and later for plot labels)\n",
    "drug_list = ['Capomulin', 'Ramicane', 'Infubinol', 'Ceftamin']\n",
    "\n",
    "# Create empty list to fill with tumor vol data (for plotting)\n",
    "iqr_combined = []\n",
    "lower = []\n",
    "upper = []\n",
    "outliers_data = []\n",
    "tum_vol = []\n",
    "\n",
    "# Calculate the IQR and quantitatively determine if there are any potential outliers. \n",
    "\n",
    "for drug in drug_list:\n",
    "    \n",
    "    volume = clean_data.loc[clean_data['Drug Regimen'] == drug]['Tumor Volume (mm3)']\n",
    "    tum_vol.append(volume)\n",
    "        \n",
    "    quantiles = volume.quantile([0.25, 0.5, 0.75])\n",
    "    Q1 = quantiles[0.25].round(2)\n",
    "    Q3 = quantiles[0.75].round(2)\n",
    "    iqr = round(Q3 - Q1,2)\n",
    "    lower_bound = round(Q1 - (1.5*iqr),2)\n",
    "    upper_bound = round(Q3 + (1.5*iqr),2)\n",
    "    outliers = volume.loc[(volume < lower_bound) | (volume > upper_bound)]\n",
    "        \n",
    "    #fill lists\n",
    "    iqr_combined.append(iqr)\n",
    "    lower.append(lower_bound)\n",
    "    upper.append(upper_bound)\n",
    "    outliers_data.append(outliers)\n",
    "        \n",
    "#Displays Results\n",
    "results = pd.DataFrame({'Drug Regimen': drug_list,\n",
    "                       'IQR': iqr_combined,\n",
    "                       'Lower Bound': lower,\n",
    "                       'Upper Bound': upper,\n",
    "                       'Outliers': outliers_data}).set_index('Drug Regimen')\n",
    "\n",
    "results\n",
    "    "
   ]
  },
  {
   "cell_type": "code",
   "execution_count": 164,
   "metadata": {},
   "outputs": [
    {
     "data": {
      "image/png": "[encoded data removed]",
      "text/plain": [
       "<Figure size 720x360 with 1 Axes>"
      ]
     },
     "metadata": {
      "needs_background": "light"
     },
     "output_type": "display_data"
    }
   ],
   "source": [
    "# Generate a box plot of the final tumor volume of each mouse across four regimens of interest\n",
    "\n",
    "plt.figure(figsize=(10,5))\n",
    "plt.title('Final Tumor Volume per Drug Regimen')\n",
    "plt.ylabel('Tumor Volume (mm3)')\n",
    "plt.boxplot(tum_vol, drug_list, flierprops=dict(markerfacecolor='red',markersize=12))\n",
    "\n",
    "plt.savefig(\"figures/BoxPlot_FinalVolasperDrug.png\")\n",
    "plt.show()\n",
    "\n",
    "\n",
    "\n",
    "\n",
    "\n"
   ]
  },
  {
   "cell_type": "markdown",
   "metadata": {},
   "source": [
    "## Line and Scatter Plots"
   ]
  },
  {
   "cell_type": "code",
   "execution_count": 165,
   "metadata": {},
   "outputs": [
    {
     "data": {
      "image/png": "[encoded data removed]",
      "text/plain": [
       "<Figure size 432x288 with 1 Axes>"
      ]
     },
     "metadata": {
      "needs_background": "light"
     },
     "output_type": "display_data"
    }
   ],
   "source": [
    "# Generate a line plot of time point versus tumor volume for a mouse treated with Capomulin\n",
    "drug_capo = clean_data[clean_data['Drug Regimen'] == 'Capomulin']\n",
    "drug_capox401 = drug_capo[drug_capo['Mouse ID'] == 'x401']\n",
    "\n",
    "x_axis = drug_capox401['Timepoint']\n",
    "y_axis = drug_capox401['Tumor Volume (mm3)']\n",
    "\n",
    "plt.plot(x_axis, y_axis)\n",
    "plt.title('Tumor Volume vs Time while on Capomulin - Mouse x401')\n",
    "plt.ylabel('Tumor Volume (mm3)')\n",
    "\n",
    "plt.savefig(\"figures/LineChartCapomulin1.png\")\n",
    "plt.show()"
   ]
  },
  {
   "cell_type": "code",
   "execution_count": 166,
   "metadata": {},
   "outputs": [
    {
     "data": {
      "image/png": "[encoded data removed]",
      "text/plain": [
       "<Figure size 432x288 with 1 Axes>"
      ]
     },
     "metadata": {
      "needs_background": "light"
     },
     "output_type": "display_data"
    }
   ],
   "source": [
    "# Generate a scatter plot of mouse weight versus average tumor volume for the Capomulin regimen\n",
    "\n",
    "#use DF and group by Mose ID\n",
    "grouped_capo = drug_capo.groupby('Mouse ID')\n",
    "\n",
    "#Find Mean Tumor Volume\n",
    "avg_tum = grouped_capo['Tumor Volume (mm3)'].mean()\n",
    "avg_tum\n",
    "\n",
    "weight = grouped_capo['Weight (g)'].unique()\n",
    "\n",
    "#Create DF for avg tumor and weights\n",
    "weight_tum = pd.DataFrame({\"Weight\":weight,\n",
    "                          \"Average Tumor Volume\": avg_tum })\n",
    "\n",
    "weight_tum\n",
    "\n",
    "plt.scatter(weight_tum['Weight'], weight_tum[\"Average Tumor Volume\"])\n",
    "plt.title('Tumor Volume vs Weight while on Capomulin')\n",
    "plt.ylabel('Tumor Volume (mm3)')\n",
    "plt.xlabel(\"Weight (g)\")\n",
    "\n",
    "plt.savefig(\"figures/ScatterChartCapomulin1.png\")\n",
    "plt.show()\n",
    "\n"
   ]
  },
  {
   "cell_type": "markdown",
   "metadata": {},
   "source": [
    "## Correlation and Regression"
   ]
  },
  {
   "cell_type": "code",
   "execution_count": 163,
   "metadata": {},
   "outputs": [
    {
     "name": "stdout",
     "output_type": "stream",
     "text": [
      "The correlation coefficient (r) is 0.84\n",
      "The p-value is 1.322572243471279e-07\n"
     ]
    },
    {
     "data": {
      "text/plain": [
       "'y = 0.95x + 21.55'"
      ]
     },
     "execution_count": 163,
     "metadata": {},
     "output_type": "execute_result"
    }
   ],
   "source": [
    "# Calculate the correlation coefficient and linear regression model \n",
    "# for mouse weight and average tumor volume for the Capomulin regimen\n",
    "\n",
    "#use values from weight dataframe to help with this correlation\n",
    "weight = weight_tum['Weight']\n",
    "avgtum = weight_tum[\"Average Tumor Volume\"]\n",
    "\n",
    "#Calc corr co-eff and p-value\n",
    "correlation = sts.pearsonr(weight.astype(float),avg_tum.astype(float))\n",
    "\n",
    "print(f\"The correlation coefficient (r) is {round(correlation[0],2)}\")\n",
    "print(f\"The p-value is {correlation[1]}\")\n",
    "\n",
    "#Calculate the Regression\n",
    "(slope, intercept, rvalue, pvalue, stderr) = linregress(weight.astype(float), avgtum.astype(float))\n",
    "\n",
    "regress_values = weight * slope + intercept\n",
    "\n",
    "#Calculate the Equation of Line\n",
    "equation_of_line = \"y = \" + str(round(slope,2)) + \"x + \"+ str(round(intercept,2))\n",
    "equation_of_line"
   ]
  },
  {
   "cell_type": "code",
   "execution_count": 167,
   "metadata": {},
   "outputs": [
    {
     "data": {
      "image/png": "[encoded data removed]",
      "text/plain": [
       "<Figure size 432x288 with 1 Axes>"
      ]
     },
     "metadata": {
      "needs_background": "light"
     },
     "output_type": "display_data"
    }
   ],
   "source": [
    "plt.scatter(weight,avgtum)\n",
    "plt.plot(weight,regress_values,\"green\")\n",
    "plt.annotate(equation_of_line,(18,37),color=\"green\",fontsize=15)\n",
    "plt.annotate(f\"R2 = {round(rvalue**2,3)}\",(18,36),fontsize=14,color=\"blue\")\n",
    "plt.xlabel('Weights')\n",
    "plt.ylabel('Avg Tumor Vol.')\n",
    "\n",
    "plt.savefig(\"figures/LinRegression.png\")\n",
    "plt.show()"
   ]
  },
  {
   "cell_type": "code",
   "execution_count": null,
   "metadata": {},
   "outputs": [],
   "source": []
  }
 ],
 "metadata": {
  "anaconda-cloud": {},
  "kernelspec": {
   "display_name": "Python 3",
   "language": "python",
   "name": "python3"
  },
  "language_info": {
   "codemirror_mode": {
    "name": "ipython",
    "version": 3
   },
   "file_extension": ".py",
   "mimetype": "text/x-python",
   "name": "python",
   "nbconvert_exporter": "python",
   "pygments_lexer": "ipython3",
   "version": "3.8.3"
  }
 },
 "nbformat": 4,
 "nbformat_minor": 2
}
